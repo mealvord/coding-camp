{
  "cells": [
    {
      "cell_type": "markdown",
      "metadata": {
        "id": "view-in-github",
        "colab_type": "text"
      },
      "source": [
        "<a href=\"https://colab.research.google.com/github/mealvord/coding-camp/blob/main/muon_tracks_level_4.ipynb\" target=\"_parent\"><img src=\"https://colab.research.google.com/assets/colab-badge.svg\" alt=\"Open In Colab\"/></a>"
      ]
    },
    {
      "cell_type": "markdown",
      "id": "5c0048fb",
      "metadata": {
        "id": "5c0048fb"
      },
      "source": [
        "# Muon Tracks in CMS  \n",
        "\n",
        "Write code to expand the pseudocode below into an investigation of [muon track data](https://github.com/QuarkNet-HEP/coding-camp/tree/main/data) in the CMS detector using [Holmes' model-fitting technique](https://docs.google.com/document/d/1VP2fAFiVm1FqjqD4D-jRctjdIrMiSmBWAYw_cqBhxV0/edit?usp=sharing) and the [PPDAC](https://docs.google.com/document/d/1ei4PwZsl9aN9HnxFz7CxEtViHXxPwyd0OAogSLCrm8U/edit?usp=sharing) framework."
      ]
    },
    {
      "cell_type": "markdown",
      "id": "a439d697",
      "metadata": {
        "id": "a439d697"
      },
      "source": [
        "## Pseudocode"
      ]
    },
    {
      "cell_type": "code",
      "execution_count": null,
      "id": "4699faad",
      "metadata": {
        "id": "4699faad"
      },
      "outputs": [],
      "source": [
        "# fit a linear model to a set of muon tracks in CMS"
      ]
    },
    {
      "cell_type": "code",
      "execution_count": null,
      "id": "435a440e",
      "metadata": {
        "id": "435a440e"
      },
      "outputs": [],
      "source": [
        "# fit another function that might give better physics insight"
      ]
    },
    {
      "cell_type": "code",
      "execution_count": null,
      "id": "8d9696ee",
      "metadata": {
        "id": "8d9696ee"
      },
      "outputs": [],
      "source": [
        "# compare the two models using chi-sq or residual sum of squares (RSS)"
      ]
    },
    {
      "cell_type": "code",
      "execution_count": null,
      "id": "44a46944",
      "metadata": {
        "id": "44a46944"
      },
      "outputs": [],
      "source": [
        "# perform analysis in both a spreadsheet and a Jupyter notebook"
      ]
    },
    {
      "cell_type": "code",
      "execution_count": null,
      "id": "c2f8c195",
      "metadata": {
        "id": "c2f8c195"
      },
      "outputs": [],
      "source": [
        "# present using PPDAC framework"
      ]
    }
  ],
  "metadata": {
    "kernelspec": {
      "display_name": "Python 3 (ipykernel)",
      "language": "python",
      "name": "python3"
    },
    "language_info": {
      "codemirror_mode": {
        "name": "ipython",
        "version": 3
      },
      "file_extension": ".py",
      "mimetype": "text/x-python",
      "name": "python",
      "nbconvert_exporter": "python",
      "pygments_lexer": "ipython3",
      "version": "3.9.7"
    },
    "colab": {
      "provenance": [],
      "include_colab_link": true
    }
  },
  "nbformat": 4,
  "nbformat_minor": 5
}